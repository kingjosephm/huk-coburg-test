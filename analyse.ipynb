{
 "cells": [
  {
   "cell_type": "code",
   "execution_count": 1,
   "metadata": {},
   "outputs": [],
   "source": [
    "import pandas as pd\n",
    "from dython.nominal import associations\n",
    "import matplotlib.pyplot as plt\n",
    "import seaborn as sns"
   ]
  },
  {
   "cell_type": "markdown",
   "metadata": {},
   "source": [
    "# 1.0) Datensätze Laden"
   ]
  },
  {
   "cell_type": "code",
   "execution_count": 2,
   "metadata": {},
   "outputs": [],
   "source": [
    "alt_ges = pd.read_csv('./data/alter_geschlecht.csv', sep=',')\n",
    "rest = pd.read_csv('./data/rest.csv', sep=';')\n",
    "interesse = pd.read_csv(\"./data/interesse.csv\", sep=',')"
   ]
  },
  {
   "cell_type": "markdown",
   "metadata": {},
   "source": [
    "# 2.0) Vorläufige Datenanalyse"
   ]
  },
  {
   "cell_type": "code",
   "execution_count": 3,
   "metadata": {},
   "outputs": [
    {
     "name": "stdout",
     "output_type": "stream",
     "text": [
      "Alter-Geschlecht: (508146, 3)\n",
      "Rest: (508146, 9)\n",
      "Interesse: (381109, 2)\n"
     ]
    }
   ],
   "source": [
    "print(\"Alter-Geschlecht:\", alt_ges.shape)\n",
    "print(\"Rest:\", rest.shape)\n",
    "print(\"Interesse:\", interesse.shape)"
   ]
  },
  {
   "cell_type": "markdown",
   "metadata": {},
   "source": [
    "### 2.1) Duplizierte IDs"
   ]
  },
  {
   "cell_type": "code",
   "execution_count": 4,
   "metadata": {},
   "outputs": [
    {
     "name": "stdout",
     "output_type": "stream",
     "text": [
      "Alter-Geschlecht: 0\n",
      "Rest: 0\n",
      "Interesse: 0\n"
     ]
    }
   ],
   "source": [
    "print(\"Alter-Geschlecht:\", alt_ges['id'].duplicated().sum())\n",
    "print(\"Rest:\", rest['id'].duplicated().sum())\n",
    "print(\"Interesse:\", interesse['id'].duplicated().sum())"
   ]
  },
  {
   "cell_type": "markdown",
   "metadata": {},
   "source": [
    "### 2.2) Fehlwerte\n",
    "\n",
    "In keinem Datensatz fehlen Werte. Bei fehlenden Werten sollten Imputationsmethoden wie die [multivariate Imputation (z.B. MICE)](https://scikit-learn.org/stable/modules/generated/sklearn.impute.IterativeImputer.html) in Betracht gezogen werden."
   ]
  },
  {
   "cell_type": "code",
   "execution_count": 5,
   "metadata": {},
   "outputs": [
    {
     "name": "stdout",
     "output_type": "stream",
     "text": [
      "Alter-Geschlecht:\n",
      " id            0.0\n",
      "Geschlecht    0.0\n",
      "Alter         0.0\n",
      "dtype: float64 \n",
      "\n",
      "\n",
      "Rest:\n",
      " Fahrerlaubnis      0.0\n",
      "Regional_Code      0.0\n",
      "Vorversicherung    0.0\n",
      "Alter_Fzg          0.0\n",
      "Vorschaden         0.0\n",
      "Jahresbeitrag      0.0\n",
      "Vertriebskanal     0.0\n",
      "Kundentreue        0.0\n",
      "id                 0.0\n",
      "dtype: float64 \n",
      "\n",
      "\n",
      "Interesse:\n",
      " id           0.0\n",
      "Interesse    0.0\n",
      "dtype: float64\n"
     ]
    }
   ],
   "source": [
    "print(\"Alter-Geschlecht:\\n\", alt_ges.isnull().mean(), \"\\n\\n\")\n",
    "print(\"Rest:\\n\", rest.isnull().mean(), '\\n\\n')\n",
    "print(\"Interesse:\\n\", interesse.isnull().mean())"
   ]
  },
  {
   "cell_type": "markdown",
   "metadata": {},
   "source": [
    "# 3.0) Zusammenführung von Datensätzen\n",
    "\n",
    "Da die Anzahl der eindeutigen IDs in den verschiedenen Datensätzen unterschiedlich ist, wird die Schnittmenge der IDs in den verschiedenen Datensätzen verwendet."
   ]
  },
  {
   "cell_type": "code",
   "execution_count": 6,
   "metadata": {},
   "outputs": [],
   "source": [
    "df = pd.merge(interesse, alt_ges, on='id', how='inner').merge(rest, on='id', how='inner').sort_values(by='id').set_index('id')  # id als Index setzen"
   ]
  },
  {
   "cell_type": "markdown",
   "metadata": {},
   "source": [
    "Der endgültige analytische Datensatz umfasst 381.109 eindeutige IDs."
   ]
  },
  {
   "cell_type": "code",
   "execution_count": 7,
   "metadata": {},
   "outputs": [
    {
     "data": {
      "text/plain": [
       "(381109, 11)"
      ]
     },
     "execution_count": 7,
     "metadata": {},
     "output_type": "execute_result"
    }
   ],
   "source": [
    "df.shape"
   ]
  },
  {
   "cell_type": "markdown",
   "metadata": {},
   "source": [
    "### 3.1) Spalten-Datentyp"
   ]
  },
  {
   "cell_type": "code",
   "execution_count": 8,
   "metadata": {},
   "outputs": [
    {
     "data": {
      "text/plain": [
       "Interesse          float64\n",
       "Geschlecht          object\n",
       "Alter                int64\n",
       "Fahrerlaubnis        int64\n",
       "Regional_Code      float64\n",
       "Vorversicherung      int64\n",
       "Alter_Fzg           object\n",
       "Vorschaden          object\n",
       "Jahresbeitrag      float64\n",
       "Vertriebskanal     float64\n",
       "Kundentreue          int64\n",
       "dtype: object"
      ]
     },
     "execution_count": 8,
     "metadata": {},
     "output_type": "execute_result"
    }
   ],
   "source": [
    "df.dtypes"
   ]
  },
  {
   "cell_type": "code",
   "execution_count": 9,
   "metadata": {},
   "outputs": [],
   "source": [
    "# Floats als Integer umwandeln; einige Spalten sind kategorisch und werden im Folgenden als kategorisch umgewandelt\n",
    "cols = ['Interesse', 'Regional_Code', 'Jahresbeitrag', 'Vertriebskanal']\n",
    "for col in cols:\n",
    "    df[col] = df[col].astype('int')"
   ]
  },
  {
   "cell_type": "markdown",
   "metadata": {},
   "source": [
    "### 3.2) Erste Zeilen des analytischen Datensatzes"
   ]
  },
  {
   "cell_type": "code",
   "execution_count": 10,
   "metadata": {},
   "outputs": [
    {
     "data": {
      "text/html": [
       "<div>\n",
       "<style scoped>\n",
       "    .dataframe tbody tr th:only-of-type {\n",
       "        vertical-align: middle;\n",
       "    }\n",
       "\n",
       "    .dataframe tbody tr th {\n",
       "        vertical-align: top;\n",
       "    }\n",
       "\n",
       "    .dataframe thead th {\n",
       "        text-align: right;\n",
       "    }\n",
       "</style>\n",
       "<table border=\"1\" class=\"dataframe\">\n",
       "  <thead>\n",
       "    <tr style=\"text-align: right;\">\n",
       "      <th></th>\n",
       "      <th>Interesse</th>\n",
       "      <th>Geschlecht</th>\n",
       "      <th>Alter</th>\n",
       "      <th>Fahrerlaubnis</th>\n",
       "      <th>Regional_Code</th>\n",
       "      <th>Vorversicherung</th>\n",
       "      <th>Alter_Fzg</th>\n",
       "      <th>Vorschaden</th>\n",
       "      <th>Jahresbeitrag</th>\n",
       "      <th>Vertriebskanal</th>\n",
       "      <th>Kundentreue</th>\n",
       "    </tr>\n",
       "    <tr>\n",
       "      <th>id</th>\n",
       "      <th></th>\n",
       "      <th></th>\n",
       "      <th></th>\n",
       "      <th></th>\n",
       "      <th></th>\n",
       "      <th></th>\n",
       "      <th></th>\n",
       "      <th></th>\n",
       "      <th></th>\n",
       "      <th></th>\n",
       "      <th></th>\n",
       "    </tr>\n",
       "  </thead>\n",
       "  <tbody>\n",
       "    <tr>\n",
       "      <th>1</th>\n",
       "      <td>1</td>\n",
       "      <td>Male</td>\n",
       "      <td>44</td>\n",
       "      <td>1</td>\n",
       "      <td>28</td>\n",
       "      <td>0</td>\n",
       "      <td>&gt; 2 Years</td>\n",
       "      <td>Yes</td>\n",
       "      <td>40454</td>\n",
       "      <td>26</td>\n",
       "      <td>217</td>\n",
       "    </tr>\n",
       "    <tr>\n",
       "      <th>2</th>\n",
       "      <td>0</td>\n",
       "      <td>Male</td>\n",
       "      <td>76</td>\n",
       "      <td>1</td>\n",
       "      <td>3</td>\n",
       "      <td>0</td>\n",
       "      <td>1-2 Year</td>\n",
       "      <td>No</td>\n",
       "      <td>33536</td>\n",
       "      <td>26</td>\n",
       "      <td>183</td>\n",
       "    </tr>\n",
       "    <tr>\n",
       "      <th>3</th>\n",
       "      <td>1</td>\n",
       "      <td>Male</td>\n",
       "      <td>47</td>\n",
       "      <td>1</td>\n",
       "      <td>28</td>\n",
       "      <td>0</td>\n",
       "      <td>&gt; 2 Years</td>\n",
       "      <td>Yes</td>\n",
       "      <td>38294</td>\n",
       "      <td>26</td>\n",
       "      <td>27</td>\n",
       "    </tr>\n",
       "    <tr>\n",
       "      <th>4</th>\n",
       "      <td>0</td>\n",
       "      <td>Male</td>\n",
       "      <td>21</td>\n",
       "      <td>1</td>\n",
       "      <td>11</td>\n",
       "      <td>1</td>\n",
       "      <td>&lt; 1 Year</td>\n",
       "      <td>No</td>\n",
       "      <td>28619</td>\n",
       "      <td>152</td>\n",
       "      <td>203</td>\n",
       "    </tr>\n",
       "    <tr>\n",
       "      <th>5</th>\n",
       "      <td>0</td>\n",
       "      <td>Female</td>\n",
       "      <td>29</td>\n",
       "      <td>1</td>\n",
       "      <td>41</td>\n",
       "      <td>1</td>\n",
       "      <td>&lt; 1 Year</td>\n",
       "      <td>No</td>\n",
       "      <td>27496</td>\n",
       "      <td>152</td>\n",
       "      <td>39</td>\n",
       "    </tr>\n",
       "  </tbody>\n",
       "</table>\n",
       "</div>"
      ],
      "text/plain": [
       "    Interesse Geschlecht  Alter  Fahrerlaubnis  Regional_Code  \\\n",
       "id                                                              \n",
       "1           1       Male     44              1             28   \n",
       "2           0       Male     76              1              3   \n",
       "3           1       Male     47              1             28   \n",
       "4           0       Male     21              1             11   \n",
       "5           0     Female     29              1             41   \n",
       "\n",
       "    Vorversicherung  Alter_Fzg Vorschaden  Jahresbeitrag  Vertriebskanal  \\\n",
       "id                                                                         \n",
       "1                 0  > 2 Years        Yes          40454              26   \n",
       "2                 0   1-2 Year         No          33536              26   \n",
       "3                 0  > 2 Years        Yes          38294              26   \n",
       "4                 1   < 1 Year         No          28619             152   \n",
       "5                 1   < 1 Year         No          27496             152   \n",
       "\n",
       "    Kundentreue  \n",
       "id               \n",
       "1           217  \n",
       "2           183  \n",
       "3            27  \n",
       "4           203  \n",
       "5            39  "
      ]
     },
     "execution_count": 10,
     "metadata": {},
     "output_type": "execute_result"
    }
   ],
   "source": [
    "df.head()"
   ]
  },
  {
   "cell_type": "markdown",
   "metadata": {},
   "source": [
    "# 4.0) Explorative Datenanalyse (EDA)"
   ]
  },
  {
   "cell_type": "markdown",
   "metadata": {},
   "source": [
    "### 4.1) Assoziationen zwischen (Spalten-)Merkmalen\n",
    "\n",
    "Die folgende Heatmap zeigt die Beziehung zwischen jedem Merkmal in `df` und allen anderen Merkmalen. Die Messung dieser Beziehung hängt von der Art des Datentyppaares ab:\n",
    "\n",
    "- Numerisch-Numerisch: [Pearson-Korrelation](https://de.wikipedia.org/wiki/Korrelationskoeffizient_nach_Bravais-Pearson), Wertebereich: -1 bis +1\n",
    "- Numerisch-Kategorisch: [Correlation Ratio](https://en.wikipedia.org/wiki/Correlation_ratio), Wertebereich: 0 bis +1\n",
    "- Kategorisch-Kategorisch: [Cramér's V](https://en.wikipedia.org/wiki/Cram%C3%A9r%27s_V), Wertebereich: 0 bis +1\n",
    "\n",
    "Aufgrund der unterschiedlichen Wertebereiche der einzelnen Metriken wird zur besseren Vergleichbarkeit der **absolute Wert** verwendet."
   ]
  },
  {
   "cell_type": "code",
   "execution_count": 11,
   "metadata": {},
   "outputs": [],
   "source": [
    "categorical_columns = ['Regional_Code', 'Vertriebskanal']\n",
    "df_ = df.copy()\n",
    "for col in categorical_columns:\n",
    "    df_[col] = df_[col].astype('category')"
   ]
  },
  {
   "cell_type": "markdown",
   "metadata": {},
   "source": [
    "*Anmerkung - Obwohl die Merkmale \"Vorschaden\", \"Fahrerlaubnis\", \"Vorversicherung\" und \"Interesse\" eigentlich kategorisch sind, da es sich um binäre Variablen handelt, können wir sie für die Modellierung und die statische Auswertung numerisch belassen. Dies vereinfacht das Vorgehen und hat keinen negativen statistischen Einfluss.*"
   ]
  },
  {
   "cell_type": "code",
   "execution_count": 12,
   "metadata": {},
   "outputs": [],
   "source": [
    "corr = associations(df_, figsize=(15, 15), annot=False, multiprocessing=True, plot=False)"
   ]
  },
  {
   "cell_type": "markdown",
   "metadata": {},
   "source": [
    "Interpretation: Die folgende Abbildung ist eine Heatmap, die die bivariate Beziehung zwischen den verschiedenen Spaltenkombinationen zeigt. Diese Beziehung wird als absoluter Wert dargestellt, so dass jeder Wert zwischen 0 und 1 liegt, wobei höhere Werte (dunklere Quadrate) eine stärkere bivariate Beziehung anzeigen."
   ]
  },
  {
   "cell_type": "code",
   "execution_count": 13,
   "metadata": {},
   "outputs": [
    {
     "data": {
      "image/png": "[encoded data removed]",
      "text/plain": [
       "<Figure size 1200x900 with 2 Axes>"
      ]
     },
     "metadata": {},
     "output_type": "display_data"
    }
   ],
   "source": [
    "plt.figure(figsize=(12,9))\n",
    "sns.heatmap(abs(corr['corr']), cmap='crest')\n",
    "plt.title('Abbildung 1: Merkmalsassoziationen', fontsize=18)\n",
    "plt.show()"
   ]
  }
 ],
 "metadata": {
  "kernelspec": {
   "display_name": "huk",
   "language": "python",
   "name": "python3"
  },
  "language_info": {
   "codemirror_mode": {
    "name": "ipython",
    "version": 3
   },
   "file_extension": ".py",
   "mimetype": "text/x-python",
   "name": "python",
   "nbconvert_exporter": "python",
   "pygments_lexer": "ipython3",
   "version": "3.13.2"
  }
 },
 "nbformat": 4,
 "nbformat_minor": 2
}
